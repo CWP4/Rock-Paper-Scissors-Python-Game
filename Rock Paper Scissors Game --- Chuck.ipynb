{
 "cells": [
  {
   "cell_type": "code",
   "execution_count": 1,
   "id": "e977c1d7",
   "metadata": {
    "scrolled": false
   },
   "outputs": [
    {
     "name": "stdout",
     "output_type": "stream",
     "text": [
      "You are going to play a rock paper scissors game.\n",
      "Rock, Paper, or Scissors?Rock\n",
      "Paper\n"
     ]
    }
   ],
   "source": [
    "import time \n",
    "import random\n",
    "While=True\n",
    "\n",
    "list1=[\"Rock\", \"Paper\", \"Scissors\"]\n",
    "\n",
    "print(\"You are going to play a rock paper scissors game.\")\n",
    "time.sleep(0.5)\n",
    "yesorno=input(\"Rock, Paper, or Scissors?\")\n",
    "\n",
    "computer=random.choice(list1)\n",
    "\n",
    "print(computer)\n",
    "\n",
    "    if yesorno=\"rock\":\n",
    "        "
   ]
  },
  {
   "cell_type": "code",
   "execution_count": 13,
   "id": "d78dd1e9",
   "metadata": {},
   "outputs": [
    {
     "name": "stdout",
     "output_type": "stream",
     "text": [
      "You are going to play a rock paper scissors game.\n",
      "Make sure all answers start with a capital letter.\n",
      "Rock, Paper, or Scissors?oi\n",
      "Rock\n",
      "Would you like to play again? *Y/N*yes\n",
      "You are going to play a rock paper scissors game.\n",
      "Make sure all answers start with a capital letter.\n",
      "Rock, Paper, or Scissors?noooooo\n",
      "Paper\n"
     ]
    },
    {
     "ename": "KeyboardInterrupt",
     "evalue": "",
     "output_type": "error",
     "traceback": [
      "\u001b[0;31m---------------------------------------------------------------------------\u001b[0m",
      "\u001b[0;31mKeyboardInterrupt\u001b[0m                         Traceback (most recent call last)",
      "\u001b[0;32m<ipython-input-13-22ebb75b1ca7>\u001b[0m in \u001b[0;36m<module>\u001b[0;34m\u001b[0m\n\u001b[1;32m     34\u001b[0m         \u001b[0;32melse\u001b[0m\u001b[0;34m:\u001b[0m\u001b[0;34m\u001b[0m\u001b[0;34m\u001b[0m\u001b[0m\n\u001b[1;32m     35\u001b[0m             \u001b[0mprint\u001b[0m\u001b[0;34m(\u001b[0m\u001b[0;34m\"Rock beats scissors. You lose!\"\u001b[0m\u001b[0;34m)\u001b[0m\u001b[0;34m\u001b[0m\u001b[0;34m\u001b[0m\u001b[0m\n\u001b[0;32m---> 36\u001b[0;31m     \u001b[0mtime\u001b[0m\u001b[0;34m.\u001b[0m\u001b[0msleep\u001b[0m\u001b[0;34m(\u001b[0m\u001b[0;36m1\u001b[0m\u001b[0;34m)\u001b[0m\u001b[0;34m\u001b[0m\u001b[0;34m\u001b[0m\u001b[0m\n\u001b[0m\u001b[1;32m     37\u001b[0m     \u001b[0mquestion\u001b[0m\u001b[0;34m=\u001b[0m\u001b[0minput\u001b[0m\u001b[0;34m(\u001b[0m\u001b[0;34m\"Would you like to play again? *Y/N*\"\u001b[0m\u001b[0;34m)\u001b[0m\u001b[0;34m\u001b[0m\u001b[0;34m\u001b[0m\u001b[0m\n\u001b[1;32m     38\u001b[0m     \u001b[0;32mif\u001b[0m \u001b[0;34m(\u001b[0m\u001b[0mquestion\u001b[0m\u001b[0;34m)\u001b[0m \u001b[0;34m==\u001b[0m \u001b[0;34m\"Yes\"\u001b[0m\u001b[0;34m:\u001b[0m\u001b[0;34m\u001b[0m\u001b[0;34m\u001b[0m\u001b[0m\n",
      "\u001b[0;31mKeyboardInterrupt\u001b[0m: "
     ]
    }
   ],
   "source": [
    "import time \n",
    "import random\n",
    "while True:\n",
    "\n",
    "    list1=[\"Rock\", \"Paper\", \"Scissors\"]\n",
    "\n",
    "    print(\"You are going to play a rock paper scissors game.\")\n",
    "    time.sleep(1)\n",
    "    print(\"Make sure all answers start with a capital letter.\")\n",
    "    time.sleep(1)\n",
    "    choice=input(\"Rock, Paper, or Scissors?\")\n",
    "\n",
    "    computer=random.choice(list1)\n",
    "\n",
    "    print(computer)\n",
    "\n",
    "    time.sleep(1)\n",
    "    if (choice) == (computer):\n",
    "        print(\"Both users selected \" +(choice)+ \". It's a draw.\")\n",
    "    elif (choice) == \"Rock\":\n",
    "        if (computer) == \"Scissors\":\n",
    "            print(\"Rock beats Scissors. You win!\")\n",
    "        else:\n",
    "            print(\"Paper beats Rock. You lose!\")\n",
    "    elif (choice) == \"Paper\":\n",
    "        if (computer) == \"Rock\":\n",
    "            print(\"Paper beats Rock, You win!\")\n",
    "        \n",
    "        else:\n",
    "            print(\"Scissors beats Paper. You lost!\")\n",
    "    elif (choice) == \"Scissors\":\n",
    "        if (computer) == \"Paper\":\n",
    "            print(\"Scissors beats Paper. You win!\")\n",
    "        else:\n",
    "            print(\"Rock beats scissors. You lose!\")\n",
    "    time.sleep(1)       \n",
    "    question=input(\"Would you like to play again? *Y/N*\")\n",
    "    if (question) == \"Yes\":\n",
    "        continue\n",
    "\n",
    "    if (question) == \"yes\":\n",
    "        continue\n",
    "        \n",
    "    else:\n",
    "        break\n",
    "        "
   ]
  },
  {
   "cell_type": "code",
   "execution_count": null,
   "id": "f8943c38",
   "metadata": {},
   "outputs": [],
   "source": []
  },
  {
   "cell_type": "code",
   "execution_count": null,
   "id": "c42ae9c0",
   "metadata": {},
   "outputs": [],
   "source": []
  },
  {
   "cell_type": "code",
   "execution_count": null,
   "id": "0cd04d26",
   "metadata": {},
   "outputs": [],
   "source": []
  }
 ],
 "metadata": {
  "kernelspec": {
   "display_name": "Python 3",
   "language": "python",
   "name": "python3"
  },
  "language_info": {
   "codemirror_mode": {
    "name": "ipython",
    "version": 3
   },
   "file_extension": ".py",
   "mimetype": "text/x-python",
   "name": "python",
   "nbconvert_exporter": "python",
   "pygments_lexer": "ipython3",
   "version": "3.8.8"
  }
 },
 "nbformat": 4,
 "nbformat_minor": 5
}
